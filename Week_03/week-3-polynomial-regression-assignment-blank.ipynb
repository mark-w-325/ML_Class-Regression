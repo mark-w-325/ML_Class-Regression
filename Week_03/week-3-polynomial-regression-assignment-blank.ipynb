{
 "cells": [
  {
   "cell_type": "markdown",
   "metadata": {},
   "source": [
    "# Regression Week 3: Assessing Fit (polynomial regression)"
   ]
  },
  {
   "cell_type": "markdown",
   "metadata": {},
   "source": [
    "In this notebook you will compare different regression models in order to assess which model fits best. We will be using polynomial regression as a means to examine this topic. In particular you will:\n",
    "* Write a function to take an SArray and a degree and return an SFrame where each column is the SArray to a polynomial value up to the total degree e.g. degree = 3 then column 1 is the SArray column 2 is the SArray squared and column 3 is the SArray cubed\n",
    "* Use matplotlib to visualize polynomial regressions\n",
    "* Use matplotlib to visualize the same polynomial degree on different subsets of the data\n",
    "* Use a validation set to select a polynomial degree\n",
    "* Assess the final fit using test data\n",
    "\n",
    "We will continue to use the House data from previous notebooks."
   ]
  },
  {
   "cell_type": "markdown",
   "metadata": {},
   "source": [
    "# Fire up graphlab create"
   ]
  },
  {
   "cell_type": "code",
   "execution_count": 1,
   "metadata": {
    "collapsed": true
   },
   "outputs": [],
   "source": [
    "import graphlab"
   ]
  },
  {
   "cell_type": "markdown",
   "metadata": {},
   "source": [
    "Next we're going to write a polynomial function that takes an SArray and a maximal degree and returns an SFrame with columns containing the SArray to all the powers up to the maximal degree.\n",
    "\n",
    "The easiest way to apply a power to an SArray is to use the .apply() and lambda x: functions. \n",
    "For example to take the example array and compute the third power we can do as follows: (note running this cell the first time may take longer than expected since it loads graphlab)"
   ]
  },
  {
   "cell_type": "code",
   "execution_count": 2,
   "metadata": {
    "collapsed": false
   },
   "outputs": [
    {
     "name": "stderr",
     "output_type": "stream",
     "text": [
      "2016-04-10 18:39:07,197 [INFO] graphlab.cython.cy_server, 176: GraphLab Create v1.8.5 started. Logging: C:\\Users\\THESIT~1\\AppData\\Local\\Temp\\graphlab_server_1460331545.log.0\n"
     ]
    },
    {
     "name": "stdout",
     "output_type": "stream",
     "text": [
      "This non-commercial license of GraphLab Create is assigned to maw325@gmail.com and will expire on January 31, 2017. For commercial licensing options, visit https://dato.com/buy/.\n",
      "[1.0, 2.0, 3.0]\n",
      "[1.0, 8.0, 27.0]\n"
     ]
    }
   ],
   "source": [
    "tmp = graphlab.SArray([1., 2., 3.])\n",
    "tmp_cubed = tmp.apply(lambda x: x**3)\n",
    "print tmp\n",
    "print tmp_cubed"
   ]
  },
  {
   "cell_type": "markdown",
   "metadata": {},
   "source": [
    "We can create an empty SFrame using graphlab.SFrame() and then add any columns to it with ex_sframe['column_name'] = value. For example we create an empty SFrame and make the column 'power_1' to be the first power of tmp (i.e. tmp itself)."
   ]
  },
  {
   "cell_type": "code",
   "execution_count": 3,
   "metadata": {
    "collapsed": false
   },
   "outputs": [
    {
     "name": "stdout",
     "output_type": "stream",
     "text": [
      "+---------+\n",
      "| power_1 |\n",
      "+---------+\n",
      "|   1.0   |\n",
      "|   2.0   |\n",
      "|   3.0   |\n",
      "+---------+\n",
      "[3 rows x 1 columns]\n",
      "\n"
     ]
    }
   ],
   "source": [
    "ex_sframe = graphlab.SFrame()\n",
    "ex_sframe['power_1'] = tmp\n",
    "print ex_sframe"
   ]
  },
  {
   "cell_type": "markdown",
   "metadata": {},
   "source": [
    "# Polynomial_sframe function"
   ]
  },
  {
   "cell_type": "markdown",
   "metadata": {},
   "source": [
    "Using the hints above complete the following function to create an SFrame consisting of the powers of an SArray up to a specific degree:"
   ]
  },
  {
   "cell_type": "code",
   "execution_count": 4,
   "metadata": {
    "collapsed": true
   },
   "outputs": [],
   "source": [
    "def polynomial_sframe(feature, degree):\n",
    "    # assume that degree >= 1\n",
    "    # initialize the SFrame:\n",
    "    poly_sframe = graphlab.SFrame()\n",
    "    # and set poly_sframe['power_1'] equal to the passed feature\n",
    "    poly_sframe['power_1'] = feature\n",
    "    # first check if degree > 1\n",
    "    if degree > 1:\n",
    "        # then loop over the remaining degrees:\n",
    "        # range usually starts at 0 and stops at the endpoint-1. We want it to start at 2 and stop at degree\n",
    "        for power in range(2, degree+1): \n",
    "            # first we'll give the column a name:\n",
    "            name = 'power_' + str(power)\n",
    "            # then assign poly_sframe[name] to the appropriate power of feature\n",
    "            poly_sframe[name] = feature**power\n",
    "    return poly_sframe"
   ]
  },
  {
   "cell_type": "markdown",
   "metadata": {},
   "source": [
    "To test your function consider the smaller tmp variable and what you would expect the outcome of the following call:"
   ]
  },
  {
   "cell_type": "code",
   "execution_count": 5,
   "metadata": {
    "collapsed": false
   },
   "outputs": [
    {
     "name": "stdout",
     "output_type": "stream",
     "text": [
      "+---------+---------+---------+\n",
      "| power_1 | power_2 | power_3 |\n",
      "+---------+---------+---------+\n",
      "|   1.0   |   1.0   |   1.0   |\n",
      "|   2.0   |   4.0   |   8.0   |\n",
      "|   3.0   |   9.0   |   27.0  |\n",
      "+---------+---------+---------+\n",
      "[3 rows x 3 columns]\n",
      "\n"
     ]
    }
   ],
   "source": [
    "print polynomial_sframe(tmp, 3)"
   ]
  },
  {
   "cell_type": "markdown",
   "metadata": {},
   "source": [
    "# Visualizing polynomial regression"
   ]
  },
  {
   "cell_type": "markdown",
   "metadata": {},
   "source": [
    "Let's use matplotlib to visualize what a polynomial regression looks like on some real data."
   ]
  },
  {
   "cell_type": "code",
   "execution_count": 6,
   "metadata": {
    "collapsed": true
   },
   "outputs": [],
   "source": [
    "sales = graphlab.SFrame('kc_house_data.gl/')"
   ]
  },
  {
   "cell_type": "markdown",
   "metadata": {},
   "source": [
    "As in Week 3, we will use the sqft_living variable. For plotting purposes (connecting the dots), you'll need to sort by the values of sqft_living. For houses with identical square footage, we break the tie by their prices."
   ]
  },
  {
   "cell_type": "code",
   "execution_count": 7,
   "metadata": {
    "collapsed": false
   },
   "outputs": [],
   "source": [
    "sales = sales.sort(['sqft_living', 'price'])"
   ]
  },
  {
   "cell_type": "markdown",
   "metadata": {},
   "source": [
    "Let's start with a degree 1 polynomial using 'sqft_living' (i.e. a line) to predict 'price' and plot what it looks like."
   ]
  },
  {
   "cell_type": "code",
   "execution_count": 8,
   "metadata": {
    "collapsed": false
   },
   "outputs": [],
   "source": [
    "poly1_data = polynomial_sframe(sales['sqft_living'], 1)\n",
    "poly1_data['price'] = sales['price'] # add price to the data since it's the target"
   ]
  },
  {
   "cell_type": "markdown",
   "metadata": {},
   "source": [
    "NOTE: for all the models in this notebook use validation_set = None to ensure that all results are consistent across users."
   ]
  },
  {
   "cell_type": "code",
   "execution_count": 9,
   "metadata": {
    "collapsed": false
   },
   "outputs": [
    {
     "data": {
      "text/html": [
       "<pre>Linear regression:</pre>"
      ],
      "text/plain": [
       "Linear regression:"
      ]
     },
     "metadata": {},
     "output_type": "display_data"
    },
    {
     "data": {
      "text/html": [
       "<pre>--------------------------------------------------------</pre>"
      ],
      "text/plain": [
       "--------------------------------------------------------"
      ]
     },
     "metadata": {},
     "output_type": "display_data"
    },
    {
     "data": {
      "text/html": [
       "<pre>Number of examples          : 21613</pre>"
      ],
      "text/plain": [
       "Number of examples          : 21613"
      ]
     },
     "metadata": {},
     "output_type": "display_data"
    },
    {
     "data": {
      "text/html": [
       "<pre>Number of features          : 1</pre>"
      ],
      "text/plain": [
       "Number of features          : 1"
      ]
     },
     "metadata": {},
     "output_type": "display_data"
    },
    {
     "data": {
      "text/html": [
       "<pre>Number of unpacked features : 1</pre>"
      ],
      "text/plain": [
       "Number of unpacked features : 1"
      ]
     },
     "metadata": {},
     "output_type": "display_data"
    },
    {
     "data": {
      "text/html": [
       "<pre>Number of coefficients    : 2</pre>"
      ],
      "text/plain": [
       "Number of coefficients    : 2"
      ]
     },
     "metadata": {},
     "output_type": "display_data"
    },
    {
     "data": {
      "text/html": [
       "<pre>Starting Newton Method</pre>"
      ],
      "text/plain": [
       "Starting Newton Method"
      ]
     },
     "metadata": {},
     "output_type": "display_data"
    },
    {
     "data": {
      "text/html": [
       "<pre>--------------------------------------------------------</pre>"
      ],
      "text/plain": [
       "--------------------------------------------------------"
      ]
     },
     "metadata": {},
     "output_type": "display_data"
    },
    {
     "data": {
      "text/html": [
       "<pre>+-----------+----------+--------------+--------------------+---------------+</pre>"
      ],
      "text/plain": [
       "+-----------+----------+--------------+--------------------+---------------+"
      ]
     },
     "metadata": {},
     "output_type": "display_data"
    },
    {
     "data": {
      "text/html": [
       "<pre>| Iteration | Passes   | Elapsed Time | Training-max_error | Training-rmse |</pre>"
      ],
      "text/plain": [
       "| Iteration | Passes   | Elapsed Time | Training-max_error | Training-rmse |"
      ]
     },
     "metadata": {},
     "output_type": "display_data"
    },
    {
     "data": {
      "text/html": [
       "<pre>+-----------+----------+--------------+--------------------+---------------+</pre>"
      ],
      "text/plain": [
       "+-----------+----------+--------------+--------------------+---------------+"
      ]
     },
     "metadata": {},
     "output_type": "display_data"
    },
    {
     "data": {
      "text/html": [
       "<pre>| 1         | 2        | 1.103842     | 4362074.696077     | 261440.790724 |</pre>"
      ],
      "text/plain": [
       "| 1         | 2        | 1.103842     | 4362074.696077     | 261440.790724 |"
      ]
     },
     "metadata": {},
     "output_type": "display_data"
    },
    {
     "data": {
      "text/html": [
       "<pre>+-----------+----------+--------------+--------------------+---------------+</pre>"
      ],
      "text/plain": [
       "+-----------+----------+--------------+--------------------+---------------+"
      ]
     },
     "metadata": {},
     "output_type": "display_data"
    },
    {
     "data": {
      "text/html": [
       "<pre>SUCCESS: Optimal solution found.</pre>"
      ],
      "text/plain": [
       "SUCCESS: Optimal solution found."
      ]
     },
     "metadata": {},
     "output_type": "display_data"
    },
    {
     "data": {
      "text/html": [
       "<pre></pre>"
      ],
      "text/plain": []
     },
     "metadata": {},
     "output_type": "display_data"
    }
   ],
   "source": [
    "model1 = graphlab.linear_regression.create(poly1_data, target = 'price', features = ['power_1'], validation_set = None)"
   ]
  },
  {
   "cell_type": "code",
   "execution_count": 10,
   "metadata": {
    "collapsed": false
   },
   "outputs": [
    {
     "data": {
      "text/html": [
       "<div style=\"max-height:1000px;max-width:1500px;overflow:auto;\"><table frame=\"box\" rules=\"cols\">\n",
       "    <tr>\n",
       "        <th style=\"padding-left: 1em; padding-right: 1em; text-align: center\">name</th>\n",
       "        <th style=\"padding-left: 1em; padding-right: 1em; text-align: center\">index</th>\n",
       "        <th style=\"padding-left: 1em; padding-right: 1em; text-align: center\">value</th>\n",
       "        <th style=\"padding-left: 1em; padding-right: 1em; text-align: center\">stderr</th>\n",
       "    </tr>\n",
       "    <tr>\n",
       "        <td style=\"padding-left: 1em; padding-right: 1em; text-align: center; vertical-align: top\">(intercept)</td>\n",
       "        <td style=\"padding-left: 1em; padding-right: 1em; text-align: center; vertical-align: top\">None</td>\n",
       "        <td style=\"padding-left: 1em; padding-right: 1em; text-align: center; vertical-align: top\">-43579.0852515</td>\n",
       "        <td style=\"padding-left: 1em; padding-right: 1em; text-align: center; vertical-align: top\">4402.68969743</td>\n",
       "    </tr>\n",
       "    <tr>\n",
       "        <td style=\"padding-left: 1em; padding-right: 1em; text-align: center; vertical-align: top\">power_1</td>\n",
       "        <td style=\"padding-left: 1em; padding-right: 1em; text-align: center; vertical-align: top\">None</td>\n",
       "        <td style=\"padding-left: 1em; padding-right: 1em; text-align: center; vertical-align: top\">280.622770886</td>\n",
       "        <td style=\"padding-left: 1em; padding-right: 1em; text-align: center; vertical-align: top\">1.93639855513</td>\n",
       "    </tr>\n",
       "</table>\n",
       "[2 rows x 4 columns]<br/>\n",
       "</div>"
      ],
      "text/plain": [
       "Columns:\n",
       "\tname\tstr\n",
       "\tindex\tstr\n",
       "\tvalue\tfloat\n",
       "\tstderr\tfloat\n",
       "\n",
       "Rows: 2\n",
       "\n",
       "Data:\n",
       "+-------------+-------+----------------+---------------+\n",
       "|     name    | index |     value      |     stderr    |\n",
       "+-------------+-------+----------------+---------------+\n",
       "| (intercept) |  None | -43579.0852515 | 4402.68969743 |\n",
       "|   power_1   |  None | 280.622770886  | 1.93639855513 |\n",
       "+-------------+-------+----------------+---------------+\n",
       "[2 rows x 4 columns]"
      ]
     },
     "execution_count": 10,
     "metadata": {},
     "output_type": "execute_result"
    }
   ],
   "source": [
    "#let's take a look at the weights before we plot\n",
    "model1.get(\"coefficients\")"
   ]
  },
  {
   "cell_type": "code",
   "execution_count": 11,
   "metadata": {
    "collapsed": true
   },
   "outputs": [],
   "source": [
    "import matplotlib.pyplot as plt\n",
    "%matplotlib inline"
   ]
  },
  {
   "cell_type": "code",
   "execution_count": 12,
   "metadata": {
    "collapsed": false
   },
   "outputs": [
    {
     "data": {
      "text/plain": [
       "[<matplotlib.lines.Line2D at 0x4573d278>,\n",
       " <matplotlib.lines.Line2D at 0x32926710>]"
      ]
     },
     "execution_count": 12,
     "metadata": {},
     "output_type": "execute_result"
    },
    {
     "data": {
      "image/png": "[encoded data removed]",
      "text/plain": [
       "<matplotlib.figure.Figure at 0x45596668>"
      ]
     },
     "metadata": {},
     "output_type": "display_data"
    }
   ],
   "source": [
    "plt.plot(poly1_data['power_1'],poly1_data['price'],'.',\n",
    "        poly1_data['power_1'], model1.predict(poly1_data),'-')"
   ]
  },
  {
   "cell_type": "markdown",
   "metadata": {},
   "source": [
    "Let's unpack that plt.plot() command. The first pair of SArrays we passed are the 1st power of sqft and the actual price we then ask it to print these as dots '.'. The next pair we pass is the 1st power of sqft and the predicted values from the linear model. We ask these to be plotted as a line '-'. \n",
    "\n",
    "We can see, not surprisingly, that the predicted values all fall on a line, specifically the one with slope 280 and intercept -43579. What if we wanted to plot a second degree polynomial?"
   ]
  },
  {
   "cell_type": "code",
   "execution_count": 13,
   "metadata": {
    "collapsed": false
   },
   "outputs": [
    {
     "data": {
      "text/html": [
       "<pre>Linear regression:</pre>"
      ],
      "text/plain": [
       "Linear regression:"
      ]
     },
     "metadata": {},
     "output_type": "display_data"
    },
    {
     "data": {
      "text/html": [
       "<pre>--------------------------------------------------------</pre>"
      ],
      "text/plain": [
       "--------------------------------------------------------"
      ]
     },
     "metadata": {},
     "output_type": "display_data"
    },
    {
     "data": {
      "text/html": [
       "<pre>Number of examples          : 21613</pre>"
      ],
      "text/plain": [
       "Number of examples          : 21613"
      ]
     },
     "metadata": {},
     "output_type": "display_data"
    },
    {
     "data": {
      "text/html": [
       "<pre>Number of features          : 2</pre>"
      ],
      "text/plain": [
       "Number of features          : 2"
      ]
     },
     "metadata": {},
     "output_type": "display_data"
    },
    {
     "data": {
      "text/html": [
       "<pre>Number of unpacked features : 2</pre>"
      ],
      "text/plain": [
       "Number of unpacked features : 2"
      ]
     },
     "metadata": {},
     "output_type": "display_data"
    },
    {
     "data": {
      "text/html": [
       "<pre>Number of coefficients    : 3</pre>"
      ],
      "text/plain": [
       "Number of coefficients    : 3"
      ]
     },
     "metadata": {},
     "output_type": "display_data"
    },
    {
     "data": {
      "text/html": [
       "<pre>Starting Newton Method</pre>"
      ],
      "text/plain": [
       "Starting Newton Method"
      ]
     },
     "metadata": {},
     "output_type": "display_data"
    },
    {
     "data": {
      "text/html": [
       "<pre>--------------------------------------------------------</pre>"
      ],
      "text/plain": [
       "--------------------------------------------------------"
      ]
     },
     "metadata": {},
     "output_type": "display_data"
    },
    {
     "data": {
      "text/html": [
       "<pre>+-----------+----------+--------------+--------------------+---------------+</pre>"
      ],
      "text/plain": [
       "+-----------+----------+--------------+--------------------+---------------+"
      ]
     },
     "metadata": {},
     "output_type": "display_data"
    },
    {
     "data": {
      "text/html": [
       "<pre>| Iteration | Passes   | Elapsed Time | Training-max_error | Training-rmse |</pre>"
      ],
      "text/plain": [
       "| Iteration | Passes   | Elapsed Time | Training-max_error | Training-rmse |"
      ]
     },
     "metadata": {},
     "output_type": "display_data"
    },
    {
     "data": {
      "text/html": [
       "<pre>+-----------+----------+--------------+--------------------+---------------+</pre>"
      ],
      "text/plain": [
       "+-----------+----------+--------------+--------------------+---------------+"
      ]
     },
     "metadata": {},
     "output_type": "display_data"
    },
    {
     "data": {
      "text/html": [
       "<pre>| 1         | 2        | 0.010027     | 5913020.984255     | 250948.368758 |</pre>"
      ],
      "text/plain": [
       "| 1         | 2        | 0.010027     | 5913020.984255     | 250948.368758 |"
      ]
     },
     "metadata": {},
     "output_type": "display_data"
    },
    {
     "data": {
      "text/html": [
       "<pre>+-----------+----------+--------------+--------------------+---------------+</pre>"
      ],
      "text/plain": [
       "+-----------+----------+--------------+--------------------+---------------+"
      ]
     },
     "metadata": {},
     "output_type": "display_data"
    },
    {
     "data": {
      "text/html": [
       "<pre>SUCCESS: Optimal solution found.</pre>"
      ],
      "text/plain": [
       "SUCCESS: Optimal solution found."
      ]
     },
     "metadata": {},
     "output_type": "display_data"
    },
    {
     "data": {
      "text/html": [
       "<pre></pre>"
      ],
      "text/plain": []
     },
     "metadata": {},
     "output_type": "display_data"
    }
   ],
   "source": [
    "poly2_data = polynomial_sframe(sales['sqft_living'], 2)\n",
    "my_features = poly2_data.column_names() # get the name of the features\n",
    "poly2_data['price'] = sales['price'] # add price to the data since it's the target\n",
    "model2 = graphlab.linear_regression.create(poly2_data, target = 'price', features = my_features, validation_set = None)"
   ]
  },
  {
   "cell_type": "code",
   "execution_count": 14,
   "metadata": {
    "collapsed": false
   },
   "outputs": [
    {
     "data": {
      "text/html": [
       "<div style=\"max-height:1000px;max-width:1500px;overflow:auto;\"><table frame=\"box\" rules=\"cols\">\n",
       "    <tr>\n",
       "        <th style=\"padding-left: 1em; padding-right: 1em; text-align: center\">name</th>\n",
       "        <th style=\"padding-left: 1em; padding-right: 1em; text-align: center\">index</th>\n",
       "        <th style=\"padding-left: 1em; padding-right: 1em; text-align: center\">value</th>\n",
       "        <th style=\"padding-left: 1em; padding-right: 1em; text-align: center\">stderr</th>\n",
       "    </tr>\n",
       "    <tr>\n",
       "        <td style=\"padding-left: 1em; padding-right: 1em; text-align: center; vertical-align: top\">(intercept)</td>\n",
       "        <td style=\"padding-left: 1em; padding-right: 1em; text-align: center; vertical-align: top\">None</td>\n",
       "        <td style=\"padding-left: 1em; padding-right: 1em; text-align: center; vertical-align: top\">199222.496445</td>\n",
       "        <td style=\"padding-left: 1em; padding-right: 1em; text-align: center; vertical-align: top\">7058.00483552</td>\n",
       "    </tr>\n",
       "    <tr>\n",
       "        <td style=\"padding-left: 1em; padding-right: 1em; text-align: center; vertical-align: top\">power_1</td>\n",
       "        <td style=\"padding-left: 1em; padding-right: 1em; text-align: center; vertical-align: top\">None</td>\n",
       "        <td style=\"padding-left: 1em; padding-right: 1em; text-align: center; vertical-align: top\">67.9940640677</td>\n",
       "        <td style=\"padding-left: 1em; padding-right: 1em; text-align: center; vertical-align: top\">5.28787201316</td>\n",
       "    </tr>\n",
       "    <tr>\n",
       "        <td style=\"padding-left: 1em; padding-right: 1em; text-align: center; vertical-align: top\">power_2</td>\n",
       "        <td style=\"padding-left: 1em; padding-right: 1em; text-align: center; vertical-align: top\">None</td>\n",
       "        <td style=\"padding-left: 1em; padding-right: 1em; text-align: center; vertical-align: top\">0.0385812312789</td>\n",
       "        <td style=\"padding-left: 1em; padding-right: 1em; text-align: center; vertical-align: top\">0.000898246547032</td>\n",
       "    </tr>\n",
       "</table>\n",
       "[3 rows x 4 columns]<br/>\n",
       "</div>"
      ],
      "text/plain": [
       "Columns:\n",
       "\tname\tstr\n",
       "\tindex\tstr\n",
       "\tvalue\tfloat\n",
       "\tstderr\tfloat\n",
       "\n",
       "Rows: 3\n",
       "\n",
       "Data:\n",
       "+-------------+-------+-----------------+-------------------+\n",
       "|     name    | index |      value      |       stderr      |\n",
       "+-------------+-------+-----------------+-------------------+\n",
       "| (intercept) |  None |  199222.496445  |   7058.00483552   |\n",
       "|   power_1   |  None |  67.9940640677  |   5.28787201316   |\n",
       "|   power_2   |  None | 0.0385812312789 | 0.000898246547032 |\n",
       "+-------------+-------+-----------------+-------------------+\n",
       "[3 rows x 4 columns]"
      ]
     },
     "execution_count": 14,
     "metadata": {},
     "output_type": "execute_result"
    }
   ],
   "source": [
    "model2.get(\"coefficients\")"
   ]
  },
  {
   "cell_type": "code",
   "execution_count": 15,
   "metadata": {
    "collapsed": false
   },
   "outputs": [
    {
     "data": {
      "text/plain": [
       "[<matplotlib.lines.Line2D at 0x45b50748>,\n",
       " <matplotlib.lines.Line2D at 0x45b50860>]"
      ]
     },
     "execution_count": 15,
     "metadata": {},
     "output_type": "execute_result"
    },
    {
     "data": {
      "image/png": "[encoded data removed]",
      "text/plain": [
       "<matplotlib.figure.Figure at 0x45655828>"
      ]
     },
     "metadata": {},
     "output_type": "display_data"
    }
   ],
   "source": [
    "plt.plot(poly2_data['power_1'],poly2_data['price'],'.',\n",
    "        poly2_data['power_1'], model2.predict(poly2_data),'-')"
   ]
  },
  {
   "cell_type": "markdown",
   "metadata": {},
   "source": [
    "The resulting model looks like half a parabola. Try on your own to see what the cubic looks like:"
   ]
  },
  {
   "cell_type": "code",
   "execution_count": 16,
   "metadata": {
    "collapsed": false
   },
   "outputs": [
    {
     "data": {
      "text/html": [
       "<pre>Linear regression:</pre>"
      ],
      "text/plain": [
       "Linear regression:"
      ]
     },
     "metadata": {},
     "output_type": "display_data"
    },
    {
     "data": {
      "text/html": [
       "<pre>--------------------------------------------------------</pre>"
      ],
      "text/plain": [
       "--------------------------------------------------------"
      ]
     },
     "metadata": {},
     "output_type": "display_data"
    },
    {
     "data": {
      "text/html": [
       "<pre>Number of examples          : 21613</pre>"
      ],
      "text/plain": [
       "Number of examples          : 21613"
      ]
     },
     "metadata": {},
     "output_type": "display_data"
    },
    {
     "data": {
      "text/html": [
       "<pre>Number of features          : 3</pre>"
      ],
      "text/plain": [
       "Number of features          : 3"
      ]
     },
     "metadata": {},
     "output_type": "display_data"
    },
    {
     "data": {
      "text/html": [
       "<pre>Number of unpacked features : 3</pre>"
      ],
      "text/plain": [
       "Number of unpacked features : 3"
      ]
     },
     "metadata": {},
     "output_type": "display_data"
    },
    {
     "data": {
      "text/html": [
       "<pre>Number of coefficients    : 4</pre>"
      ],
      "text/plain": [
       "Number of coefficients    : 4"
      ]
     },
     "metadata": {},
     "output_type": "display_data"
    },
    {
     "data": {
      "text/html": [
       "<pre>Starting Newton Method</pre>"
      ],
      "text/plain": [
       "Starting Newton Method"
      ]
     },
     "metadata": {},
     "output_type": "display_data"
    },
    {
     "data": {
      "text/html": [
       "<pre>--------------------------------------------------------</pre>"
      ],
      "text/plain": [
       "--------------------------------------------------------"
      ]
     },
     "metadata": {},
     "output_type": "display_data"
    },
    {
     "data": {
      "text/html": [
       "<pre>+-----------+----------+--------------+--------------------+---------------+</pre>"
      ],
      "text/plain": [
       "+-----------+----------+--------------+--------------------+---------------+"
      ]
     },
     "metadata": {},
     "output_type": "display_data"
    },
    {
     "data": {
      "text/html": [
       "<pre>| Iteration | Passes   | Elapsed Time | Training-max_error | Training-rmse |</pre>"
      ],
      "text/plain": [
       "| Iteration | Passes   | Elapsed Time | Training-max_error | Training-rmse |"
      ]
     },
     "metadata": {},
     "output_type": "display_data"
    },
    {
     "data": {
      "text/html": [
       "<pre>+-----------+----------+--------------+--------------------+---------------+</pre>"
      ],
      "text/plain": [
       "+-----------+----------+--------------+--------------------+---------------+"
      ]
     },
     "metadata": {},
     "output_type": "display_data"
    },
    {
     "data": {
      "text/html": [
       "<pre>| 1         | 2        | 0.011029     | 3261066.736007     | 249261.286346 |</pre>"
      ],
      "text/plain": [
       "| 1         | 2        | 0.011029     | 3261066.736007     | 249261.286346 |"
      ]
     },
     "metadata": {},
     "output_type": "display_data"
    },
    {
     "data": {
      "text/html": [
       "<pre>+-----------+----------+--------------+--------------------+---------------+</pre>"
      ],
      "text/plain": [
       "+-----------+----------+--------------+--------------------+---------------+"
      ]
     },
     "metadata": {},
     "output_type": "display_data"
    },
    {
     "data": {
      "text/html": [
       "<pre>SUCCESS: Optimal solution found.</pre>"
      ],
      "text/plain": [
       "SUCCESS: Optimal solution found."
      ]
     },
     "metadata": {},
     "output_type": "display_data"
    },
    {
     "data": {
      "text/html": [
       "<pre></pre>"
      ],
      "text/plain": []
     },
     "metadata": {},
     "output_type": "display_data"
    },
    {
     "data": {
      "text/html": [
       "<div style=\"max-height:1000px;max-width:1500px;overflow:auto;\"><table frame=\"box\" rules=\"cols\">\n",
       "    <tr>\n",
       "        <th style=\"padding-left: 1em; padding-right: 1em; text-align: center\">name</th>\n",
       "        <th style=\"padding-left: 1em; padding-right: 1em; text-align: center\">index</th>\n",
       "        <th style=\"padding-left: 1em; padding-right: 1em; text-align: center\">value</th>\n",
       "        <th style=\"padding-left: 1em; padding-right: 1em; text-align: center\">stderr</th>\n",
       "    </tr>\n",
       "    <tr>\n",
       "        <td style=\"padding-left: 1em; padding-right: 1em; text-align: center; vertical-align: top\">(intercept)</td>\n",
       "        <td style=\"padding-left: 1em; padding-right: 1em; text-align: center; vertical-align: top\">None</td>\n",
       "        <td style=\"padding-left: 1em; padding-right: 1em; text-align: center; vertical-align: top\">336788.117952</td>\n",
       "        <td style=\"padding-left: 1em; padding-right: 1em; text-align: center; vertical-align: top\">10661.0153713</td>\n",
       "    </tr>\n",
       "    <tr>\n",
       "        <td style=\"padding-left: 1em; padding-right: 1em; text-align: center; vertical-align: top\">power_1</td>\n",
       "        <td style=\"padding-left: 1em; padding-right: 1em; text-align: center; vertical-align: top\">None</td>\n",
       "        <td style=\"padding-left: 1em; padding-right: 1em; text-align: center; vertical-align: top\">-90.1476236119</td>\n",
       "        <td style=\"padding-left: 1em; padding-right: 1em; text-align: center; vertical-align: top\">10.6222891844</td>\n",
       "    </tr>\n",
       "    <tr>\n",
       "        <td style=\"padding-left: 1em; padding-right: 1em; text-align: center; vertical-align: top\">power_2</td>\n",
       "        <td style=\"padding-left: 1em; padding-right: 1em; text-align: center; vertical-align: top\">None</td>\n",
       "        <td style=\"padding-left: 1em; padding-right: 1em; text-align: center; vertical-align: top\">0.087036715081</td>\n",
       "        <td style=\"padding-left: 1em; padding-right: 1em; text-align: center; vertical-align: top\">0.00296630623148</td>\n",
       "    </tr>\n",
       "    <tr>\n",
       "        <td style=\"padding-left: 1em; padding-right: 1em; text-align: center; vertical-align: top\">power_3</td>\n",
       "        <td style=\"padding-left: 1em; padding-right: 1em; text-align: center; vertical-align: top\">None</td>\n",
       "        <td style=\"padding-left: 1em; padding-right: 1em; text-align: center; vertical-align: top\">-3.8398521196e-06</td>\n",
       "        <td style=\"padding-left: 1em; padding-right: 1em; text-align: center; vertical-align: top\">2.2417490959e-07</td>\n",
       "    </tr>\n",
       "</table>\n",
       "[4 rows x 4 columns]<br/>\n",
       "</div>"
      ],
      "text/plain": [
       "Columns:\n",
       "\tname\tstr\n",
       "\tindex\tstr\n",
       "\tvalue\tfloat\n",
       "\tstderr\tfloat\n",
       "\n",
       "Rows: 4\n",
       "\n",
       "Data:\n",
       "+-------------+-------+-------------------+------------------+\n",
       "|     name    | index |       value       |      stderr      |\n",
       "+-------------+-------+-------------------+------------------+\n",
       "| (intercept) |  None |   336788.117952   |  10661.0153713   |\n",
       "|   power_1   |  None |   -90.1476236119  |  10.6222891844   |\n",
       "|   power_2   |  None |   0.087036715081  | 0.00296630623148 |\n",
       "|   power_3   |  None | -3.8398521196e-06 | 2.2417490959e-07 |\n",
       "+-------------+-------+-------------------+------------------+\n",
       "[4 rows x 4 columns]"
      ]
     },
     "execution_count": 16,
     "metadata": {},
     "output_type": "execute_result"
    }
   ],
   "source": [
    "poly3_data = polynomial_sframe(sales['sqft_living'], 3)\n",
    "my_features = poly3_data.column_names() # get the name of the features\n",
    "poly3_data['price'] = sales['price'] # add price to the data since it's the target\n",
    "model3 = graphlab.linear_regression.create(poly3_data, target = 'price', features = my_features, validation_set = None)\n",
    "model3.get(\"coefficients\")"
   ]
  },
  {
   "cell_type": "code",
   "execution_count": 17,
   "metadata": {
    "collapsed": false
   },
   "outputs": [
    {
     "data": {
      "text/plain": [
       "[<matplotlib.lines.Line2D at 0x45f88a58>,\n",
       " <matplotlib.lines.Line2D at 0x45f88b38>]"
      ]
     },
     "execution_count": 17,
     "metadata": {},
     "output_type": "execute_result"
    },
    {
     "data": {
      "image/png": "[encoded data removed]",
      "text/plain": [
       "<matplotlib.figure.Figure at 0x45764da0>"
      ]
     },
     "metadata": {},
     "output_type": "display_data"
    }
   ],
   "source": [
    "plt.plot(poly3_data['power_1'],poly3_data['price'],'.',\n",
    "        poly3_data['power_1'], model3.predict(poly2_data),'-')"
   ]
  },
  {
   "cell_type": "markdown",
   "metadata": {},
   "source": [
    "Now try a 15th degree polynomial:"
   ]
  },
  {
   "cell_type": "code",
   "execution_count": 20,
   "metadata": {
    "collapsed": false
   },
   "outputs": [
    {
     "data": {
      "text/html": [
       "<pre>Linear regression:</pre>"
      ],
      "text/plain": [
       "Linear regression:"
      ]
     },
     "metadata": {},
     "output_type": "display_data"
    },
    {
     "data": {
      "text/html": [
       "<pre>--------------------------------------------------------</pre>"
      ],
      "text/plain": [
       "--------------------------------------------------------"
      ]
     },
     "metadata": {},
     "output_type": "display_data"
    },
    {
     "data": {
      "text/html": [
       "<pre>Number of examples          : 21613</pre>"
      ],
      "text/plain": [
       "Number of examples          : 21613"
      ]
     },
     "metadata": {},
     "output_type": "display_data"
    },
    {
     "data": {
      "text/html": [
       "<pre>Number of features          : 15</pre>"
      ],
      "text/plain": [
       "Number of features          : 15"
      ]
     },
     "metadata": {},
     "output_type": "display_data"
    },
    {
     "data": {
      "text/html": [
       "<pre>Number of unpacked features : 15</pre>"
      ],
      "text/plain": [
       "Number of unpacked features : 15"
      ]
     },
     "metadata": {},
     "output_type": "display_data"
    },
    {
     "data": {
      "text/html": [
       "<pre>Number of coefficients    : 16</pre>"
      ],
      "text/plain": [
       "Number of coefficients    : 16"
      ]
     },
     "metadata": {},
     "output_type": "display_data"
    },
    {
     "data": {
      "text/html": [
       "<pre>Starting Newton Method</pre>"
      ],
      "text/plain": [
       "Starting Newton Method"
      ]
     },
     "metadata": {},
     "output_type": "display_data"
    },
    {
     "data": {
      "text/html": [
       "<pre>--------------------------------------------------------</pre>"
      ],
      "text/plain": [
       "--------------------------------------------------------"
      ]
     },
     "metadata": {},
     "output_type": "display_data"
    },
    {
     "data": {
      "text/html": [
       "<pre>+-----------+----------+--------------+--------------------+---------------+</pre>"
      ],
      "text/plain": [
       "+-----------+----------+--------------+--------------------+---------------+"
      ]
     },
     "metadata": {},
     "output_type": "display_data"
    },
    {
     "data": {
      "text/html": [
       "<pre>| Iteration | Passes   | Elapsed Time | Training-max_error | Training-rmse |</pre>"
      ],
      "text/plain": [
       "| Iteration | Passes   | Elapsed Time | Training-max_error | Training-rmse |"
      ]
     },
     "metadata": {},
     "output_type": "display_data"
    },
    {
     "data": {
      "text/html": [
       "<pre>+-----------+----------+--------------+--------------------+---------------+</pre>"
      ],
      "text/plain": [
       "+-----------+----------+--------------+--------------------+---------------+"
      ]
     },
     "metadata": {},
     "output_type": "display_data"
    },
    {
     "data": {
      "text/html": [
       "<pre>| 1         | 2        | 0.017645     | 2662308.584343     | 245690.511190 |</pre>"
      ],
      "text/plain": [
       "| 1         | 2        | 0.017645     | 2662308.584343     | 245690.511190 |"
      ]
     },
     "metadata": {},
     "output_type": "display_data"
    },
    {
     "data": {
      "text/html": [
       "<pre>+-----------+----------+--------------+--------------------+---------------+</pre>"
      ],
      "text/plain": [
       "+-----------+----------+--------------+--------------------+---------------+"
      ]
     },
     "metadata": {},
     "output_type": "display_data"
    },
    {
     "data": {
      "text/html": [
       "<pre>SUCCESS: Optimal solution found.</pre>"
      ],
      "text/plain": [
       "SUCCESS: Optimal solution found."
      ]
     },
     "metadata": {},
     "output_type": "display_data"
    },
    {
     "data": {
      "text/html": [
       "<pre></pre>"
      ],
      "text/plain": []
     },
     "metadata": {},
     "output_type": "display_data"
    },
    {
     "name": "stdout",
     "output_type": "stream",
     "text": [
      "+-------------+-------+--------------------+-------------------+\n",
      "|     name    | index |       value        |       stderr      |\n",
      "+-------------+-------+--------------------+-------------------+\n",
      "| (intercept) |  None |   73619.7521173    |        nan        |\n",
      "|   power_1   |  None |   410.287462519    |        nan        |\n",
      "|   power_2   |  None |   -0.23045071441   |        nan        |\n",
      "|   power_3   |  None | 7.58840542352e-05  |        nan        |\n",
      "|   power_4   |  None | -5.65701802391e-09 |        nan        |\n",
      "|   power_5   |  None | -4.57028130952e-13 |        nan        |\n",
      "|   power_6   |  None | 2.66360206687e-17  |        nan        |\n",
      "|   power_7   |  None | 3.38584769195e-21  |        nan        |\n",
      "|   power_8   |  None | 1.14723104126e-25  |        nan        |\n",
      "|   power_9   |  None | -4.65293586386e-30 |        nan        |\n",
      "|   power_10  |  None | -8.68796201992e-34 | 8.09280889582e-30 |\n",
      "|   power_11  |  None | -6.3099429571e-38  |        nan        |\n",
      "|   power_12  |  None | -2.70390383737e-42 |        nan        |\n",
      "|   power_13  |  None | -1.2124198071e-47  |        nan        |\n",
      "|   power_14  |  None | 1.11397452814e-50  |        nan        |\n",
      "|   power_15  |  None |  1.3988169079e-54  |        nan        |\n",
      "+-------------+-------+--------------------+-------------------+\n",
      "[16 rows x 4 columns]\n",
      "\n"
     ]
    }
   ],
   "source": [
    "poly15_data = polynomial_sframe(sales['sqft_living'], 15)\n",
    "my_features = poly15_data.column_names() # get the name of the features\n",
    "poly15_data['price'] = sales['price'] # add price to the data since it's the target\n",
    "model15 = graphlab.linear_regression.create(poly15_data, target = 'price', features = my_features, validation_set = None)\n",
    "model15.get(\"coefficients\").print_rows(num_rows = 16)"
   ]
  },
  {
   "cell_type": "code",
   "execution_count": 25,
   "metadata": {
    "collapsed": false
   },
   "outputs": [
    {
     "data": {
      "text/plain": [
       "[<matplotlib.lines.Line2D at 0x480b0550>,\n",
       " <matplotlib.lines.Line2D at 0x480b0668>]"
      ]
     },
     "execution_count": 25,
     "metadata": {},
     "output_type": "execute_result"
    },
    {
     "data": {
      "image/png": "[encoded data removed]",
      "text/plain": [
       "<matplotlib.figure.Figure at 0x47da40f0>"
      ]
     },
     "metadata": {},
     "output_type": "display_data"
    }
   ],
   "source": [
    "plt.plot(poly15_data['power_1'],poly15_data['price'],'.',\n",
    "        poly15_data['power_1'], model15.predict(poly15_data),'-')"
   ]
  },
  {
   "cell_type": "markdown",
   "metadata": {},
   "source": [
    "What do you think of the 15th degree polynomial? Do you think this is appropriate? If we were to change the data do you think you'd get pretty much the same curve? Let's take a look."
   ]
  },
  {
   "cell_type": "markdown",
   "metadata": {},
   "source": [
    "# Changing the data and re-learning"
   ]
  },
  {
   "cell_type": "markdown",
   "metadata": {},
   "source": [
    "We're going to split the sales data into four subsets of roughly equal size. Then you will estimate a 15th degree polynomial model on all four subsets of the data. Print the coefficients (you should use .print_rows(num_rows = 16) to view all of them) and plot the resulting fit (as we did above). The quiz will ask you some questions about these results.\n",
    "\n",
    "To split the sales data into four subsets, we perform the following steps:\n",
    "* First split sales into 2 subsets with `.random_split(0.5, seed=0)`. \n",
    "* Next split the resulting subsets into 2 more subsets each. Use `.random_split(0.5, seed=0)`.\n",
    "\n",
    "We set `seed=0` in these steps so that different users get consistent results.\n",
    "You should end up with 4 subsets (`set_1`, `set_2`, `set_3`, `set_4`) of approximately equal size. "
   ]
  },
  {
   "cell_type": "code",
   "execution_count": 40,
   "metadata": {
    "collapsed": true
   },
   "outputs": [],
   "source": [
    "set_1, set_2 = sales.random_split(0.5, seed=0)\n",
    "set_1, set_3 = set_1.random_split(0.5, seed=0)\n",
    "set_2, set_4 = set_2.random_split(0.5, seed=0)"
   ]
  },
  {
   "cell_type": "markdown",
   "metadata": {},
   "source": [
    "Fit a 15th degree polynomial on set_1, set_2, set_3, and set_4 using sqft_living to predict prices. Print the coefficients and make a plot of the resulting model."
   ]
  },
  {
   "cell_type": "code",
   "execution_count": 41,
   "metadata": {
    "collapsed": false
   },
   "outputs": [
    {
     "data": {
      "text/html": [
       "<pre>Linear regression:</pre>"
      ],
      "text/plain": [
       "Linear regression:"
      ]
     },
     "metadata": {},
     "output_type": "display_data"
    },
    {
     "data": {
      "text/html": [
       "<pre>--------------------------------------------------------</pre>"
      ],
      "text/plain": [
       "--------------------------------------------------------"
      ]
     },
     "metadata": {},
     "output_type": "display_data"
    },
    {
     "data": {
      "text/html": [
       "<pre>Number of examples          : 5404</pre>"
      ],
      "text/plain": [
       "Number of examples          : 5404"
      ]
     },
     "metadata": {},
     "output_type": "display_data"
    },
    {
     "data": {
      "text/html": [
       "<pre>Number of features          : 15</pre>"
      ],
      "text/plain": [
       "Number of features          : 15"
      ]
     },
     "metadata": {},
     "output_type": "display_data"
    },
    {
     "data": {
      "text/html": [
       "<pre>Number of unpacked features : 15</pre>"
      ],
      "text/plain": [
       "Number of unpacked features : 15"
      ]
     },
     "metadata": {},
     "output_type": "display_data"
    },
    {
     "data": {
      "text/html": [
       "<pre>Number of coefficients    : 16</pre>"
      ],
      "text/plain": [
       "Number of coefficients    : 16"
      ]
     },
     "metadata": {},
     "output_type": "display_data"
    },
    {
     "data": {
      "text/html": [
       "<pre>Starting Newton Method</pre>"
      ],
      "text/plain": [
       "Starting Newton Method"
      ]
     },
     "metadata": {},
     "output_type": "display_data"
    },
    {
     "data": {
      "text/html": [
       "<pre>--------------------------------------------------------</pre>"
      ],
      "text/plain": [
       "--------------------------------------------------------"
      ]
     },
     "metadata": {},
     "output_type": "display_data"
    },
    {
     "data": {
      "text/html": [
       "<pre>+-----------+----------+--------------+--------------------+---------------+</pre>"
      ],
      "text/plain": [
       "+-----------+----------+--------------+--------------------+---------------+"
      ]
     },
     "metadata": {},
     "output_type": "display_data"
    },
    {
     "data": {
      "text/html": [
       "<pre>| Iteration | Passes   | Elapsed Time | Training-max_error | Training-rmse |</pre>"
      ],
      "text/plain": [
       "| Iteration | Passes   | Elapsed Time | Training-max_error | Training-rmse |"
      ]
     },
     "metadata": {},
     "output_type": "display_data"
    },
    {
     "data": {
      "text/html": [
       "<pre>+-----------+----------+--------------+--------------------+---------------+</pre>"
      ],
      "text/plain": [
       "+-----------+----------+--------------+--------------------+---------------+"
      ]
     },
     "metadata": {},
     "output_type": "display_data"
    },
    {
     "data": {
      "text/html": [
       "<pre>| 1         | 2        | 0.009525     | 2195218.932304     | 248858.822200 |</pre>"
      ],
      "text/plain": [
       "| 1         | 2        | 0.009525     | 2195218.932304     | 248858.822200 |"
      ]
     },
     "metadata": {},
     "output_type": "display_data"
    },
    {
     "data": {
      "text/html": [
       "<pre>+-----------+----------+--------------+--------------------+---------------+</pre>"
      ],
      "text/plain": [
       "+-----------+----------+--------------+--------------------+---------------+"
      ]
     },
     "metadata": {},
     "output_type": "display_data"
    },
    {
     "data": {
      "text/html": [
       "<pre>SUCCESS: Optimal solution found.</pre>"
      ],
      "text/plain": [
       "SUCCESS: Optimal solution found."
      ]
     },
     "metadata": {},
     "output_type": "display_data"
    },
    {
     "data": {
      "text/html": [
       "<pre></pre>"
      ],
      "text/plain": []
     },
     "metadata": {},
     "output_type": "display_data"
    },
    {
     "name": "stdout",
     "output_type": "stream",
     "text": [
      "+-------------+-------+--------------------+-------------------+\n",
      "|     name    | index |       value        |       stderr      |\n",
      "+-------------+-------+--------------------+-------------------+\n",
      "| (intercept) |  None |   223312.750251    |    793117.1601    |\n",
      "|   power_1   |  None |   118.086127584    |   3358.16240776   |\n",
      "|   power_2   |  None |  -0.0473482011323  |   5.85319640008   |\n",
      "|   power_3   |  None | 3.25310342463e-05  |  0.00553277215069 |\n",
      "|   power_4   |  None | -3.3237215255e-09  | 3.14523740446e-06 |\n",
      "|   power_5   |  None | -9.7583045792e-14  | 1.12737549947e-09 |\n",
      "|   power_6   |  None |  1.1544030343e-17  | 2.63683175443e-13 |\n",
      "|   power_7   |  None | 1.05145869431e-21  | 4.48493578506e-17 |\n",
      "|   power_8   |  None | 3.46049616247e-26  | 7.04025805502e-21 |\n",
      "|   power_9   |  None | -1.09654454076e-30 | 9.48180216747e-25 |\n",
      "|   power_10  |  None | -2.42031812116e-34 | 8.44065037102e-29 |\n",
      "|   power_11  |  None | -1.99601206795e-38 |  3.5819157052e-33 |\n",
      "|   power_12  |  None | -1.07709903796e-42 |        nan        |\n",
      "|   power_13  |  None | -2.72862817831e-47 |        nan        |\n",
      "|   power_14  |  None | 2.44782693205e-51  | 8.23312404976e-46 |\n",
      "|   power_15  |  None | 5.01975232689e-55  | 2.48426782389e-50 |\n",
      "+-------------+-------+--------------------+-------------------+\n",
      "[16 rows x 4 columns]\n",
      "\n"
     ]
    },
    {
     "data": {
      "text/plain": [
       "[<matplotlib.lines.Line2D at 0x57b2bda0>,\n",
       " <matplotlib.lines.Line2D at 0x57b2be80>]"
      ]
     },
     "execution_count": 41,
     "metadata": {},
     "output_type": "execute_result"
    },
    {
     "data": {
      "image/png": "[encoded data removed]",
      "text/plain": [
       "<matplotlib.figure.Figure at 0x4de991d0>"
      ]
     },
     "metadata": {},
     "output_type": "display_data"
    }
   ],
   "source": [
    "poly15_1_data = polynomial_sframe(set_1['sqft_living'], 15)\n",
    "my_features_1 = poly15_1_data.column_names() # get the name of the features\n",
    "poly15_1_data['price'] = set_1['price'] # add price to the data since it's the target\n",
    "model15_1 = graphlab.linear_regression.create(poly15_1_data, target = 'price', features = my_features_1, validation_set = None)\n",
    "model15_1.get(\"coefficients\").print_rows(num_rows = 16)\n",
    "plt.plot(poly15_1_data['power_1'],poly15_1_data['price'],'.',\n",
    "        poly15_1_data['power_1'], model15_1.predict(poly15_1_data),'-')"
   ]
  },
  {
   "cell_type": "code",
   "execution_count": 42,
   "metadata": {
    "collapsed": false
   },
   "outputs": [
    {
     "data": {
      "text/html": [
       "<pre>Linear regression:</pre>"
      ],
      "text/plain": [
       "Linear regression:"
      ]
     },
     "metadata": {},
     "output_type": "display_data"
    },
    {
     "data": {
      "text/html": [
       "<pre>--------------------------------------------------------</pre>"
      ],
      "text/plain": [
       "--------------------------------------------------------"
      ]
     },
     "metadata": {},
     "output_type": "display_data"
    },
    {
     "data": {
      "text/html": [
       "<pre>Number of examples          : 5409</pre>"
      ],
      "text/plain": [
       "Number of examples          : 5409"
      ]
     },
     "metadata": {},
     "output_type": "display_data"
    },
    {
     "data": {
      "text/html": [
       "<pre>Number of features          : 15</pre>"
      ],
      "text/plain": [
       "Number of features          : 15"
      ]
     },
     "metadata": {},
     "output_type": "display_data"
    },
    {
     "data": {
      "text/html": [
       "<pre>Number of unpacked features : 15</pre>"
      ],
      "text/plain": [
       "Number of unpacked features : 15"
      ]
     },
     "metadata": {},
     "output_type": "display_data"
    },
    {
     "data": {
      "text/html": [
       "<pre>Number of coefficients    : 16</pre>"
      ],
      "text/plain": [
       "Number of coefficients    : 16"
      ]
     },
     "metadata": {},
     "output_type": "display_data"
    },
    {
     "data": {
      "text/html": [
       "<pre>Starting Newton Method</pre>"
      ],
      "text/plain": [
       "Starting Newton Method"
      ]
     },
     "metadata": {},
     "output_type": "display_data"
    },
    {
     "data": {
      "text/html": [
       "<pre>--------------------------------------------------------</pre>"
      ],
      "text/plain": [
       "--------------------------------------------------------"
      ]
     },
     "metadata": {},
     "output_type": "display_data"
    },
    {
     "data": {
      "text/html": [
       "<pre>+-----------+----------+--------------+--------------------+---------------+</pre>"
      ],
      "text/plain": [
       "+-----------+----------+--------------+--------------------+---------------+"
      ]
     },
     "metadata": {},
     "output_type": "display_data"
    },
    {
     "data": {
      "text/html": [
       "<pre>| Iteration | Passes   | Elapsed Time | Training-max_error | Training-rmse |</pre>"
      ],
      "text/plain": [
       "| Iteration | Passes   | Elapsed Time | Training-max_error | Training-rmse |"
      ]
     },
     "metadata": {},
     "output_type": "display_data"
    },
    {
     "data": {
      "text/html": [
       "<pre>+-----------+----------+--------------+--------------------+---------------+</pre>"
      ],
      "text/plain": [
       "+-----------+----------+--------------+--------------------+---------------+"
      ]
     },
     "metadata": {},
     "output_type": "display_data"
    },
    {
     "data": {
      "text/html": [
       "<pre>| 1         | 2        | 0.012533     | 2269769.506524     | 251460.072754 |</pre>"
      ],
      "text/plain": [
       "| 1         | 2        | 0.012533     | 2269769.506524     | 251460.072754 |"
      ]
     },
     "metadata": {},
     "output_type": "display_data"
    },
    {
     "data": {
      "text/html": [
       "<pre>+-----------+----------+--------------+--------------------+---------------+</pre>"
      ],
      "text/plain": [
       "+-----------+----------+--------------+--------------------+---------------+"
      ]
     },
     "metadata": {},
     "output_type": "display_data"
    },
    {
     "data": {
      "text/html": [
       "<pre>SUCCESS: Optimal solution found.</pre>"
      ],
      "text/plain": [
       "SUCCESS: Optimal solution found."
      ]
     },
     "metadata": {},
     "output_type": "display_data"
    },
    {
     "data": {
      "text/html": [
       "<pre></pre>"
      ],
      "text/plain": []
     },
     "metadata": {},
     "output_type": "display_data"
    },
    {
     "name": "stdout",
     "output_type": "stream",
     "text": [
      "+-------------+-------+--------------------+-------------------+\n",
      "|     name    | index |       value        |       stderr      |\n",
      "+-------------+-------+--------------------+-------------------+\n",
      "| (intercept) |  None |   87317.9795602    |   1657064.27157   |\n",
      "|   power_1   |  None |    356.30491103    |   8571.42240646   |\n",
      "|   power_2   |  None |  -0.164817442793   |    18.64853253    |\n",
      "|   power_3   |  None | 4.40424992623e-05  |  0.0225421068808  |\n",
      "|   power_4   |  None | 6.48234877664e-10  | 1.68303899991e-05 |\n",
      "|   power_5   |  None | -6.75253226651e-13 | 8.12742527413e-09 |\n",
      "|   power_6   |  None | -3.36842592825e-17 | 2.55835678784e-12 |\n",
      "|   power_7   |  None | 3.60999704406e-21  | 5.02430800939e-16 |\n",
      "|   power_8   |  None | 6.46999725607e-25  | 4.85153075732e-20 |\n",
      "|   power_9   |  None | 4.23639388769e-29  |        nan        |\n",
      "|   power_10  |  None | -3.62149424132e-34 | 7.38126715519e-28 |\n",
      "|   power_11  |  None | -4.2711952746e-37  | 1.07578026273e-31 |\n",
      "|   power_12  |  None | -5.61445971659e-41 | 6.38300890359e-36 |\n",
      "|   power_13  |  None | -3.87452772914e-45 |  4.0875824031e-40 |\n",
      "|   power_14  |  None | 4.69430357587e-50  | 2.68401857019e-44 |\n",
      "|   power_15  |  None | 6.39045886172e-53  | 6.42695506473e-49 |\n",
      "+-------------+-------+--------------------+-------------------+\n",
      "[16 rows x 4 columns]\n",
      "\n"
     ]
    },
    {
     "data": {
      "text/plain": [
       "[<matplotlib.lines.Line2D at 0x57d86a58>,\n",
       " <matplotlib.lines.Line2D at 0x57d86b38>]"
      ]
     },
     "execution_count": 42,
     "metadata": {},
     "output_type": "execute_result"
    },
    {
     "data": {
      "image/png": "[encoded data removed]",
      "text/plain": [
       "<matplotlib.figure.Figure at 0x57b8cef0>"
      ]
     },
     "metadata": {},
     "output_type": "display_data"
    }
   ],
   "source": [
    "poly15_2_data = polynomial_sframe(set_2['sqft_living'], 15)\n",
    "my_features_2 = poly15_2_data.column_names() # get the name of the features\n",
    "poly15_2_data['price'] = set_2['price'] # add price to the data since it's the target\n",
    "model15_2 = graphlab.linear_regression.create(poly15_2_data, target = 'price', features = my_features_2, validation_set = None)\n",
    "model15_2.get(\"coefficients\").print_rows(num_rows = 16)\n",
    "plt.plot(poly15_2_data['power_1'],poly15_2_data['price'],'.',\n",
    "        poly15_2_data['power_1'], model15_2.predict(poly15_2_data),'-')"
   ]
  },
  {
   "cell_type": "code",
   "execution_count": 43,
   "metadata": {
    "collapsed": false
   },
   "outputs": [
    {
     "data": {
      "text/html": [
       "<pre>Linear regression:</pre>"
      ],
      "text/plain": [
       "Linear regression:"
      ]
     },
     "metadata": {},
     "output_type": "display_data"
    },
    {
     "data": {
      "text/html": [
       "<pre>--------------------------------------------------------</pre>"
      ],
      "text/plain": [
       "--------------------------------------------------------"
      ]
     },
     "metadata": {},
     "output_type": "display_data"
    },
    {
     "data": {
      "text/html": [
       "<pre>Number of examples          : 5398</pre>"
      ],
      "text/plain": [
       "Number of examples          : 5398"
      ]
     },
     "metadata": {},
     "output_type": "display_data"
    },
    {
     "data": {
      "text/html": [
       "<pre>Number of features          : 15</pre>"
      ],
      "text/plain": [
       "Number of features          : 15"
      ]
     },
     "metadata": {},
     "output_type": "display_data"
    },
    {
     "data": {
      "text/html": [
       "<pre>Number of unpacked features : 15</pre>"
      ],
      "text/plain": [
       "Number of unpacked features : 15"
      ]
     },
     "metadata": {},
     "output_type": "display_data"
    },
    {
     "data": {
      "text/html": [
       "<pre>Number of coefficients    : 16</pre>"
      ],
      "text/plain": [
       "Number of coefficients    : 16"
      ]
     },
     "metadata": {},
     "output_type": "display_data"
    },
    {
     "data": {
      "text/html": [
       "<pre>Starting Newton Method</pre>"
      ],
      "text/plain": [
       "Starting Newton Method"
      ]
     },
     "metadata": {},
     "output_type": "display_data"
    },
    {
     "data": {
      "text/html": [
       "<pre>--------------------------------------------------------</pre>"
      ],
      "text/plain": [
       "--------------------------------------------------------"
      ]
     },
     "metadata": {},
     "output_type": "display_data"
    },
    {
     "data": {
      "text/html": [
       "<pre>+-----------+----------+--------------+--------------------+---------------+</pre>"
      ],
      "text/plain": [
       "+-----------+----------+--------------+--------------------+---------------+"
      ]
     },
     "metadata": {},
     "output_type": "display_data"
    },
    {
     "data": {
      "text/html": [
       "<pre>| Iteration | Passes   | Elapsed Time | Training-max_error | Training-rmse |</pre>"
      ],
      "text/plain": [
       "| Iteration | Passes   | Elapsed Time | Training-max_error | Training-rmse |"
      ]
     },
     "metadata": {},
     "output_type": "display_data"
    },
    {
     "data": {
      "text/html": [
       "<pre>+-----------+----------+--------------+--------------------+---------------+</pre>"
      ],
      "text/plain": [
       "+-----------+----------+--------------+--------------------+---------------+"
      ]
     },
     "metadata": {},
     "output_type": "display_data"
    },
    {
     "data": {
      "text/html": [
       "<pre>| 1         | 2        | 0.012032     | 2069212.978547     | 234840.067186 |</pre>"
      ],
      "text/plain": [
       "| 1         | 2        | 0.012032     | 2069212.978547     | 234840.067186 |"
      ]
     },
     "metadata": {},
     "output_type": "display_data"
    },
    {
     "data": {
      "text/html": [
       "<pre>+-----------+----------+--------------+--------------------+---------------+</pre>"
      ],
      "text/plain": [
       "+-----------+----------+--------------+--------------------+---------------+"
      ]
     },
     "metadata": {},
     "output_type": "display_data"
    },
    {
     "data": {
      "text/html": [
       "<pre>SUCCESS: Optimal solution found.</pre>"
      ],
      "text/plain": [
       "SUCCESS: Optimal solution found."
      ]
     },
     "metadata": {},
     "output_type": "display_data"
    },
    {
     "data": {
      "text/html": [
       "<pre></pre>"
      ],
      "text/plain": []
     },
     "metadata": {},
     "output_type": "display_data"
    },
    {
     "name": "stdout",
     "output_type": "stream",
     "text": [
      "+-------------+-------+--------------------+-------------------+\n",
      "|     name    | index |       value        |       stderr      |\n",
      "+-------------+-------+--------------------+-------------------+\n",
      "| (intercept) |  None |   89836.5077346    |   1497895.33425   |\n",
      "|   power_1   |  None |   319.806946761    |   8464.82518226   |\n",
      "|   power_2   |  None |   -0.10331539704   |   20.3064785505   |\n",
      "|   power_3   |  None | 1.06682476067e-05  |   0.027409975249  |\n",
      "|   power_4   |  None | 5.75577097699e-09  |  2.3269924558e-05 |\n",
      "|   power_5   |  None | -2.5466346469e-13  | 1.31174819427e-08 |\n",
      "|   power_6   |  None | -1.09641345069e-16 | 5.02399626231e-12 |\n",
      "|   power_7   |  None | -6.36458441705e-21 | 1.30116859423e-15 |\n",
      "|   power_8   |  None | 5.52560416962e-25  | 2.16513300234e-19 |\n",
      "|   power_9   |  None | 1.35082038985e-28  | 1.82598594902e-23 |\n",
      "|   power_10  |  None | 1.18408188233e-32  |        nan        |\n",
      "|   power_11  |  None | 1.98348000424e-37  | 3.47167108364e-31 |\n",
      "|   power_12  |  None | -9.92533590346e-41 | 5.36019450434e-35 |\n",
      "|   power_13  |  None | -1.60834847046e-44 | 4.55164294466e-39 |\n",
      "|   power_14  |  None | -9.12006024039e-49 | 2.23024803951e-43 |\n",
      "|   power_15  |  None | 1.68636658309e-52  | 4.84361695187e-48 |\n",
      "+-------------+-------+--------------------+-------------------+\n",
      "[16 rows x 4 columns]\n",
      "\n"
     ]
    },
    {
     "data": {
      "text/plain": [
       "[<matplotlib.lines.Line2D at 0x5803a208>,\n",
       " <matplotlib.lines.Line2D at 0x57d012e8>]"
      ]
     },
     "execution_count": 43,
     "metadata": {},
     "output_type": "execute_result"
    },
    {
     "data": {
      "image/png": "[encoded data removed]",
      "text/plain": [
       "<matplotlib.figure.Figure at 0x4e60cd30>"
      ]
     },
     "metadata": {},
     "output_type": "display_data"
    }
   ],
   "source": [
    "poly15_3_data = polynomial_sframe(set_3['sqft_living'], 15)\n",
    "my_features_3 = poly15_3_data.column_names() # get the name of the features\n",
    "poly15_3_data['price'] = set_3['price'] # add price to the data since it's the target\n",
    "model15_3 = graphlab.linear_regression.create(poly15_3_data, target = 'price', features = my_features_3, validation_set = None)\n",
    "model15_3.get(\"coefficients\").print_rows(num_rows = 16)\n",
    "plt.plot(poly15_3_data['power_1'],poly15_3_data['price'],'.',\n",
    "        poly15_3_data['power_1'], model15_3.predict(poly15_3_data),'-')"
   ]
  },
  {
   "cell_type": "code",
   "execution_count": 44,
   "metadata": {
    "collapsed": false
   },
   "outputs": [
    {
     "data": {
      "text/html": [
       "<pre>Linear regression:</pre>"
      ],
      "text/plain": [
       "Linear regression:"
      ]
     },
     "metadata": {},
     "output_type": "display_data"
    },
    {
     "data": {
      "text/html": [
       "<pre>--------------------------------------------------------</pre>"
      ],
      "text/plain": [
       "--------------------------------------------------------"
      ]
     },
     "metadata": {},
     "output_type": "display_data"
    },
    {
     "data": {
      "text/html": [
       "<pre>Number of examples          : 5402</pre>"
      ],
      "text/plain": [
       "Number of examples          : 5402"
      ]
     },
     "metadata": {},
     "output_type": "display_data"
    },
    {
     "data": {
      "text/html": [
       "<pre>Number of features          : 15</pre>"
      ],
      "text/plain": [
       "Number of features          : 15"
      ]
     },
     "metadata": {},
     "output_type": "display_data"
    },
    {
     "data": {
      "text/html": [
       "<pre>Number of unpacked features : 15</pre>"
      ],
      "text/plain": [
       "Number of unpacked features : 15"
      ]
     },
     "metadata": {},
     "output_type": "display_data"
    },
    {
     "data": {
      "text/html": [
       "<pre>Number of coefficients    : 16</pre>"
      ],
      "text/plain": [
       "Number of coefficients    : 16"
      ]
     },
     "metadata": {},
     "output_type": "display_data"
    },
    {
     "data": {
      "text/html": [
       "<pre>Starting Newton Method</pre>"
      ],
      "text/plain": [
       "Starting Newton Method"
      ]
     },
     "metadata": {},
     "output_type": "display_data"
    },
    {
     "data": {
      "text/html": [
       "<pre>--------------------------------------------------------</pre>"
      ],
      "text/plain": [
       "--------------------------------------------------------"
      ]
     },
     "metadata": {},
     "output_type": "display_data"
    },
    {
     "data": {
      "text/html": [
       "<pre>+-----------+----------+--------------+--------------------+---------------+</pre>"
      ],
      "text/plain": [
       "+-----------+----------+--------------+--------------------+---------------+"
      ]
     },
     "metadata": {},
     "output_type": "display_data"
    },
    {
     "data": {
      "text/html": [
       "<pre>| Iteration | Passes   | Elapsed Time | Training-max_error | Training-rmse |</pre>"
      ],
      "text/plain": [
       "| Iteration | Passes   | Elapsed Time | Training-max_error | Training-rmse |"
      ]
     },
     "metadata": {},
     "output_type": "display_data"
    },
    {
     "data": {
      "text/html": [
       "<pre>+-----------+----------+--------------+--------------------+---------------+</pre>"
      ],
      "text/plain": [
       "+-----------+----------+--------------+--------------------+---------------+"
      ]
     },
     "metadata": {},
     "output_type": "display_data"
    },
    {
     "data": {
      "text/html": [
       "<pre>| 1         | 2        | 0.009497     | 2314893.173823     | 244563.136754 |</pre>"
      ],
      "text/plain": [
       "| 1         | 2        | 0.009497     | 2314893.173823     | 244563.136754 |"
      ]
     },
     "metadata": {},
     "output_type": "display_data"
    },
    {
     "data": {
      "text/html": [
       "<pre>+-----------+----------+--------------+--------------------+---------------+</pre>"
      ],
      "text/plain": [
       "+-----------+----------+--------------+--------------------+---------------+"
      ]
     },
     "metadata": {},
     "output_type": "display_data"
    },
    {
     "data": {
      "text/html": [
       "<pre>SUCCESS: Optimal solution found.</pre>"
      ],
      "text/plain": [
       "SUCCESS: Optimal solution found."
      ]
     },
     "metadata": {},
     "output_type": "display_data"
    },
    {
     "data": {
      "text/html": [
       "<pre></pre>"
      ],
      "text/plain": []
     },
     "metadata": {},
     "output_type": "display_data"
    },
    {
     "name": "stdout",
     "output_type": "stream",
     "text": [
      "+-------------+-------+--------------------+-------------------+\n",
      "|     name    | index |       value        |       stderr      |\n",
      "+-------------+-------+--------------------+-------------------+\n",
      "| (intercept) |  None |   259020.879446    |        nan        |\n",
      "|   power_1   |  None |   -31.7277161899   |        nan        |\n",
      "|   power_2   |  None |   0.109702769606   |        nan        |\n",
      "|   power_3   |  None | -1.58383847304e-05 |        nan        |\n",
      "|   power_4   |  None | -4.47660623808e-09 |        nan        |\n",
      "|   power_5   |  None | 1.13976573484e-12  |        nan        |\n",
      "|   power_6   |  None | 1.97669120513e-16  |        nan        |\n",
      "|   power_7   |  None | -6.15783677761e-21 |        nan        |\n",
      "|   power_8   |  None | -4.88012304169e-24 |        nan        |\n",
      "|   power_9   |  None | -6.62186781264e-28 |        nan        |\n",
      "|   power_10  |  None | -2.70631583383e-32 |        nan        |\n",
      "|   power_11  |  None | 6.72370411655e-36  | 8.56097223907e-31 |\n",
      "|   power_12  |  None | 1.74115646307e-39  | 1.13316811485e-34 |\n",
      "|   power_13  |  None | 2.09188375691e-43  |        nan        |\n",
      "|   power_14  |  None | 4.78015565503e-48  |        nan        |\n",
      "|   power_15  |  None | -4.74535333046e-51 |        nan        |\n",
      "+-------------+-------+--------------------+-------------------+\n",
      "[16 rows x 4 columns]\n",
      "\n"
     ]
    },
    {
     "data": {
      "text/plain": [
       "[<matplotlib.lines.Line2D at 0x5824a0f0>,\n",
       " <matplotlib.lines.Line2D at 0x5824a1d0>]"
      ]
     },
     "execution_count": 44,
     "metadata": {},
     "output_type": "execute_result"
    },
    {
     "data": {
      "image/png": "[encoded data removed]",
      "text/plain": [
       "<matplotlib.figure.Figure at 0x57d01eb8>"
      ]
     },
     "metadata": {},
     "output_type": "display_data"
    }
   ],
   "source": [
    "poly15_4_data = polynomial_sframe(set_4['sqft_living'], 15)\n",
    "my_features_4 = poly15_4_data.column_names() # get the name of the features\n",
    "poly15_4_data['price'] = set_4['price'] # add price to the data since it's the target\n",
    "model15_4 = graphlab.linear_regression.create(poly15_4_data, target = 'price', features = my_features_4, validation_set = None)\n",
    "model15_4.get(\"coefficients\").print_rows(num_rows = 16)\n",
    "plt.plot(poly15_4_data['power_1'],poly15_4_data['price'],'.',\n",
    "        poly15_4_data['power_1'], model15_4.predict(poly15_4_data),'-')"
   ]
  },
  {
   "cell_type": "markdown",
   "metadata": {},
   "source": [
    "Some questions you will be asked on your quiz:\n",
    "\n",
    "**Quiz Question: Is the sign (positive or negative) for power_15 the same in all four models?**\n",
    "\n",
    "**Quiz Question: (True/False) the plotted fitted lines look the same in all four plots**"
   ]
  },
  {
   "cell_type": "markdown",
   "metadata": {},
   "source": [
    "# Selecting a Polynomial Degree"
   ]
  },
  {
   "cell_type": "markdown",
   "metadata": {},
   "source": [
    "Whenever we have a \"magic\" parameter like the degree of the polynomial there is one well-known way to select these parameters: validation set. (We will explore another approach in week 4).\n",
    "\n",
    "We split the sales dataset 3-way into training set, test set, and validation set as follows:\n",
    "\n",
    "* Split our sales data into 2 sets: `training_and_validation` and `testing`. Use `random_split(0.9, seed=1)`.\n",
    "* Further split our training data into two sets: `training` and `validation`. Use `random_split(0.5, seed=1)`.\n",
    "\n",
    "Again, we set `seed=1` to obtain consistent results for different users."
   ]
  },
  {
   "cell_type": "code",
   "execution_count": 45,
   "metadata": {
    "collapsed": true
   },
   "outputs": [],
   "source": [
    "training_and_validation, testing = sales.random_split(0.9, seed=1)\n",
    "training, validation = training_and_validation.random_split(0.5, seed=1)"
   ]
  },
  {
   "cell_type": "markdown",
   "metadata": {},
   "source": [
    "Next you should write a loop that does the following:\n",
    "* For degree in [1, 2, 3, 4, 5, 6, 7, 8, 9, 10, 11, 12, 13, 14, 15] (to get this in python type range(1, 15+1))\n",
    "    * Build an SFrame of polynomial data of train_data['sqft_living'] at the current degree\n",
    "    * hint: my_features = poly_data.column_names() gives you a list e.g. ['power_1', 'power_2', 'power_3'] which you might find useful for graphlab.linear_regression.create( features = my_features)\n",
    "    * Add train_data['price'] to the polynomial SFrame\n",
    "    * Learn a polynomial regression model to sqft vs price with that degree on TRAIN data\n",
    "    * Compute the RSS on VALIDATION data (here you will want to use .predict()) for that degree and you will need to make a polynmial SFrame using validation data.\n",
    "* Report which degree had the lowest RSS on validation data (remember python indexes from 0)\n",
    "\n",
    "(Note you can turn off the print out of linear_regression.create() with verbose = False)"
   ]
  },
  {
   "cell_type": "code",
   "execution_count": 58,
   "metadata": {
    "collapsed": false
   },
   "outputs": [
    {
     "name": "stdout",
     "output_type": "stream",
     "text": [
      "Degree 1, RSS=6.76709775198e+14\n",
      "Degree 2, RSS=6.07090530698e+14\n",
      "Degree 3, RSS=6.16714574533e+14\n",
      "Degree 4, RSS=6.09129230654e+14\n",
      "Degree 5, RSS=5.99177138584e+14\n",
      "Degree 6, RSS=5.8918247781e+14\n",
      "Degree 7, RSS=5.91717038418e+14\n",
      "Degree 8, RSS=6.01558237779e+14\n",
      "Degree 9, RSS=6.12563853988e+14\n",
      "Degree 10, RSS=6.21744288938e+14\n",
      "Degree 11, RSS=6.27012012708e+14\n",
      "Degree 12, RSS=6.27757914769e+14\n",
      "Degree 13, RSS=6.24738503265e+14\n",
      "Degree 14, RSS=6.19369705906e+14\n",
      "Degree 15, RSS=6.13089202419e+14\n"
     ]
    }
   ],
   "source": [
    "for d in range(1, 15 + 1):\n",
    "    poly_data = polynomial_sframe(training['sqft_living'], d)\n",
    "    my_features = poly_data.column_names()\n",
    "    poly_data['price'] = training['price']\n",
    "    model = graphlab.linear_regression.create(poly_data, target='price', features=my_features, validation_set=None, verbose=False)\n",
    "    poly_v_data = polynomial_sframe(validation['sqft_living'], d)\n",
    "    poly_v_data['price'] = validation['price']\n",
    "    #model.get('coefficients').print_rows(num_rows=16)\n",
    "    model_predictions = model.predict(poly_v_data)\n",
    "    differences = model_predictions - poly_v_data['price']\n",
    "    RSS = differences * differences\n",
    "    RSS = RSS.sum()\n",
    "    print 'Degree %s, RSS=%s' % (str(d), str(RSS))\n",
    "    "
   ]
  },
  {
   "cell_type": "markdown",
   "metadata": {},
   "source": [
    "**Quiz Question: Which degree (1, 2, …, 15) had the lowest RSS on Validation data?**"
   ]
  },
  {
   "cell_type": "markdown",
   "metadata": {},
   "source": [
    "Now that you have chosen the degree of your polynomial using validation data, compute the RSS of this model on TEST data. Report the RSS on your quiz."
   ]
  },
  {
   "cell_type": "code",
   "execution_count": 60,
   "metadata": {
    "collapsed": false
   },
   "outputs": [
    {
     "name": "stdout",
     "output_type": "stream",
     "text": [
      "+-------------+-------+--------------------+-------------------+\n",
      "|     name    | index |       value        |       stderr      |\n",
      "+-------------+-------+--------------------+-------------------+\n",
      "| (intercept) |  None |   206520.746109    |    62365.43629    |\n",
      "|   power_1   |  None |   191.386412848    |   124.992902904   |\n",
      "|   power_2   |  None |  -0.141145435547   |  0.0912790132821  |\n",
      "|   power_3   |  None | 8.58496330317e-05  | 3.10860683014e-05 |\n",
      "|   power_4   |  None | -1.77908642189e-08 |  5.2331831722e-09 |\n",
      "|   power_5   |  None | 1.65930833699e-12  | 4.16262614494e-13 |\n",
      "|   power_6   |  None | -5.59634436006e-17 | 1.22955192237e-17 |\n",
      "+-------------+-------+--------------------+-------------------+\n",
      "[7 rows x 4 columns]\n",
      "\n",
      "1.25529337848e+14\n"
     ]
    }
   ],
   "source": [
    "poly_data = polynomial_sframe(training['sqft_living'], 6)\n",
    "my_features = poly_data.column_names()\n",
    "poly_data['price'] = training['price']\n",
    "model = graphlab.linear_regression.create(poly_data, target='price', features=my_features, validation_set=None, verbose=False)\n",
    "poly_t_data = polynomial_sframe(testing['sqft_living'], 6)\n",
    "poly_t_data['price'] = testing['price']\n",
    "model.get('coefficients').print_rows(num_rows=16)\n",
    "predictions = model.predict(poly_t_data)\n",
    "differences = predictions - poly_t_data['price']\n",
    "RSS = differences * differences\n",
    "RSS = RSS.sum()\n",
    "print RSS"
   ]
  },
  {
   "cell_type": "markdown",
   "metadata": {},
   "source": [
    "**Quiz Question: what is the RSS on TEST data for the model with the degree selected from Validation data?**"
   ]
  },
  {
   "cell_type": "code",
   "execution_count": null,
   "metadata": {
    "collapsed": true
   },
   "outputs": [],
   "source": []
  }
 ],
 "metadata": {
  "kernelspec": {
   "display_name": "Python 2",
   "language": "python",
   "name": "python2"
  },
  "language_info": {
   "codemirror_mode": {
    "name": "ipython",
    "version": 2
   },
   "file_extension": ".py",
   "mimetype": "text/x-python",
   "name": "python",
   "nbconvert_exporter": "python",
   "pygments_lexer": "ipython2",
   "version": "2.7.11"
  }
 },
 "nbformat": 4,
 "nbformat_minor": 0
}
